{
 "cells": [
  {
   "cell_type": "code",
   "execution_count": 2,
   "id": "3342783b-e545-4da3-b38b-0a820b3ef6ae",
   "metadata": {},
   "outputs": [],
   "source": [
    "import requests\n",
    "import bs4"
   ]
  },
  {
   "cell_type": "code",
   "execution_count": 7,
   "id": "2ce57f5a-13d0-4951-b1f3-5b0c15039dc0",
   "metadata": {},
   "outputs": [],
   "source": [
    "scrape = requests.get('http://quotes.toscrape.com/')"
   ]
  },
  {
   "cell_type": "code",
   "execution_count": 8,
   "id": "1727f0e3-ee49-4beb-ae6c-9f34142b0434",
   "metadata": {},
   "outputs": [],
   "source": [
    "soup = bs4.BeautifulSoup(scrape.text, 'html.parser')"
   ]
  },
  {
   "cell_type": "code",
   "execution_count": 17,
   "id": "0b10ceb5-13bd-4c95-a1a2-7658df5cacf7",
   "metadata": {},
   "outputs": [
    {
     "name": "stdout",
     "output_type": "stream",
     "text": [
      "Albert Einstein\n",
      "J.K. Rowling\n",
      "Albert Einstein\n",
      "Jane Austen\n",
      "Marilyn Monroe\n",
      "Albert Einstein\n",
      "André Gide\n",
      "Thomas A. Edison\n",
      "Eleanor Roosevelt\n",
      "Steve Martin\n"
     ]
    }
   ],
   "source": [
    "quote_blocks = soup.find_all('div', class_='quote')\n",
    "\n",
    "authors = [block.find('small', class_='author').text for block in quote_blocks]\n",
    "\n",
    "for name in authors:\n",
    "    print(name)"
   ]
  },
  {
   "cell_type": "code",
   "execution_count": 20,
   "id": "b51b8390-560f-4443-8028-3eb00a8aeed2",
   "metadata": {},
   "outputs": [
    {
     "name": "stdout",
     "output_type": "stream",
     "text": [
      "['“The world as we have created it is a process of our thinking. It cannot be changed without changing our thinking.”', '“It is our choices, Harry, that show what we truly are, far more than our abilities.”', '“There are only two ways to live your life. One is as though nothing is a miracle. The other is as though everything is a miracle.”', '“The person, be it gentleman or lady, who has not pleasure in a good novel, must be intolerably stupid.”', \"“Imperfection is beauty, madness is genius and it's better to be absolutely ridiculous than absolutely boring.”\", '“Try not to become a man of success. Rather become a man of value.”', '“It is better to be hated for what you are than to be loved for what you are not.”', \"“I have not failed. I've just found 10,000 ways that won't work.”\", \"“A woman is like a tea bag; you never know how strong it is until it's in hot water.”\", '“A day without sunshine is like, you know, night.”']\n"
     ]
    }
   ],
   "source": [
    "quotes = [quote.find('span', class_='text').text for quote in quote_blocks]\n",
    "\n",
    "print(quotes)"
   ]
  },
  {
   "cell_type": "code",
   "execution_count": 26,
   "id": "8a79fa73-af73-48f6-a5e8-3ec8cc7c5ef2",
   "metadata": {},
   "outputs": [
    {
     "name": "stdout",
     "output_type": "stream",
     "text": [
      "love\n",
      "inspirational\n",
      "life\n",
      "humor\n",
      "books\n",
      "reading\n",
      "friendship\n",
      "friends\n",
      "truth\n",
      "simile\n"
     ]
    }
   ],
   "source": [
    "tag_blocks = soup.find_all('span', class_='tag-item')\n",
    "\n",
    "tags = [tag.find('a', class_='tag').text for tag in tag_blocks]\n",
    "\n",
    "for i in tags:\n",
    "    print(i)"
   ]
  },
  {
   "cell_type": "code",
   "execution_count": null,
   "id": "6d0fe875-aa58-4bd6-a8d7-aa2b3b967747",
   "metadata": {},
   "outputs": [],
   "source": [
    "p = 1\n",
    "uni_aut = set()\n",
    "\n",
    "while True:\n",
    "    url = f\"http://quotes.toscrape.com/page/{p}/\"\n",
    "    response = requests.get(url)\n",
    "\n",
    "    if response.status_code != 200:\n",
    "        break\n",
    "\n",
    "    soup = bs4.BeautifulSoup(response.text, 'html.parser')\n",
    "\n",
    "    quote_blocks = soup.find_all('div', class_='quote')\n",
    "\n",
    "    if not quote_blocks:\n",
    "        break\n",
    "\n",
    "    for quote in quote_blocks:\n",
    "        aut = quote.find('small', class_='author').text\n",
    "        uni_aut.add(aut)\n",
    "\n",
    "    p += 1\n",
    "\n",
    "print(uni_aut)"
   ]
  },
  {
   "cell_type": "code",
   "execution_count": null,
   "id": "17fcabfd-7166-436e-8093-a5690cdd4aff",
   "metadata": {},
   "outputs": [],
   "source": []
  }
 ],
 "metadata": {
  "kernelspec": {
   "display_name": "Python 3 (ipykernel)",
   "language": "python",
   "name": "python3"
  },
  "language_info": {
   "codemirror_mode": {
    "name": "ipython",
    "version": 3
   },
   "file_extension": ".py",
   "mimetype": "text/x-python",
   "name": "python",
   "nbconvert_exporter": "python",
   "pygments_lexer": "ipython3",
   "version": "3.13.3"
  }
 },
 "nbformat": 4,
 "nbformat_minor": 5
}
