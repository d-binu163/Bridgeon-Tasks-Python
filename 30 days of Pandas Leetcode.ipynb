{
 "cells": [
  {
   "cell_type": "markdown",
   "id": "745dec66-6367-42d4-b25d-d26553b9af64",
   "metadata": {},
   "source": [
    "# 30 Days of Pandas in Leetcode - 5 Questions"
   ]
  },
  {
   "cell_type": "markdown",
   "id": "c3dc00ed-37b8-427f-ae22-b60451bed812",
   "metadata": {},
   "source": [
    "## Big Countries"
   ]
  },
  {
   "cell_type": "code",
   "execution_count": null,
   "id": "07c0763c-aaa3-4341-b31c-fda8a096d9cd",
   "metadata": {},
   "outputs": [],
   "source": [
    "def big_countries(world: pd.DataFrame) -> pd.DataFrame:\n",
    "    bigworld = world[(world['area'] >= 3000000) | (world['population'] >= 25000000)]\n",
    "    result = bigworld[['name','population','area']]\n",
    "    return result"
   ]
  },
  {
   "cell_type": "markdown",
   "id": "0603dea0-c00b-46c4-910f-2b36f358bc52",
   "metadata": {},
   "source": [
    "## Recyclable and Low Fat Products"
   ]
  },
  {
   "cell_type": "code",
   "execution_count": null,
   "id": "47bff587-e281-4323-9150-519b30ae68d1",
   "metadata": {},
   "outputs": [],
   "source": [
    "def find_products(products: pd.DataFrame) -> pd.DataFrame:\n",
    "    result = products[(products['low_fats'] == 'Y') & (products['recyclable'] == 'Y')][['product_id']]\n",
    "    return result"
   ]
  },
  {
   "cell_type": "markdown",
   "id": "363a8cad-bfc6-405e-a65d-a4c34765d31c",
   "metadata": {},
   "source": [
    "## Customers Who Never Order"
   ]
  },
  {
   "cell_type": "code",
   "execution_count": null,
   "id": "3afbbe18-1e49-46a9-8370-5b5da401dd2c",
   "metadata": {},
   "outputs": [],
   "source": [
    "def find_customers(customers: pd.DataFrame, orders: pd.DataFrame) -> pd.DataFrame:\n",
    "    total = pd.merge(customers, orders, how='left', left_on='id', right_on = 'customerId')\n",
    "    result = total[total['customerId'].isnull()][['name']]\n",
    "    result = result.rename(columns={'name':'Customers'})\n",
    "    return result"
   ]
  },
  {
   "cell_type": "markdown",
   "id": "16fecf6c-1aa6-4b22-9031-a0df1acae735",
   "metadata": {},
   "source": [
    "## Article Views I"
   ]
  },
  {
   "cell_type": "code",
   "execution_count": null,
   "id": "47ac589e-6c8c-409a-a1a5-1ce95c1d829e",
   "metadata": {},
   "outputs": [],
   "source": [
    "def article_views(views: pd.DataFrame) -> pd.DataFrame:\n",
    "    result = views[views['author_id'] == views['viewer_id']][['author_id']]\n",
    "    result = result.sort_values('author_id')\n",
    "    result = result.rename(columns= {'author_id':'id'})\n",
    "    result = pd.DataFrame(result['id'].unique(), columns=['id'])\n",
    "    return result"
   ]
  },
  {
   "cell_type": "markdown",
   "id": "0dc6649e-34a5-4d81-9943-05ff043342c4",
   "metadata": {},
   "source": [
    "## Invalid Tweets"
   ]
  },
  {
   "cell_type": "code",
   "execution_count": null,
   "id": "13c8184a-cc10-4f9b-947e-45161b859ea5",
   "metadata": {},
   "outputs": [],
   "source": [
    "def invalid_tweets(tweets: pd.DataFrame) -> pd.DataFrame:\n",
    "    result = tweets[tweets['content'].apply(len) > 15][['tweet_id']]\n",
    "    return result"
   ]
  }
 ],
 "metadata": {
  "kernelspec": {
   "display_name": "Python 3 (ipykernel)",
   "language": "python",
   "name": "python3"
  },
  "language_info": {
   "codemirror_mode": {
    "name": "ipython",
    "version": 3
   },
   "file_extension": ".py",
   "mimetype": "text/x-python",
   "name": "python",
   "nbconvert_exporter": "python",
   "pygments_lexer": "ipython3",
   "version": "3.13.3"
  }
 },
 "nbformat": 4,
 "nbformat_minor": 5
}
