{
 "cells": [
  {
   "cell_type": "code",
   "execution_count": 51,
   "id": "770fd4fd-8a26-4d1c-adec-a1ed0d29786f",
   "metadata": {},
   "outputs": [],
   "source": [
    "import numpy as np"
   ]
  },
  {
   "cell_type": "code",
   "execution_count": 52,
   "id": "7727f478-625f-4006-b525-0f1a4dbe5f29",
   "metadata": {},
   "outputs": [],
   "source": [
    "months = np.array(['Jan','Feb','Mar','Apr','May','Jun','Jul','Aug','Sep','Oct','Nov','Dec'])\n",
    "revenue = np.array([12000,15000,18000,21000,25000,23000,28000,30000,27000,22000,19000,17000])\n",
    "customers = np.array([120,135,160,180,200,190,230,250,240,210,175,160])\n",
    "ad_spend = np.array([2000,2200,2500,2800,3200,3100,3500,4000,3700,3300,2900,2700])"
   ]
  },
  {
   "cell_type": "markdown",
   "id": "73c98bcb-eef7-46fe-9e88-8eb874d0ea41",
   "metadata": {},
   "source": [
    "# Basic Analysis"
   ]
  },
  {
   "cell_type": "code",
   "execution_count": 53,
   "id": "a7798f6a-99df-4f19-aa79-e6ac8adc1944",
   "metadata": {},
   "outputs": [
    {
     "name": "stdout",
     "output_type": "stream",
     "text": [
      "257000\n"
     ]
    }
   ],
   "source": [
    "#Find the total revenue\n",
    "total_revenue = np.sum(revenue) \n",
    "print(total_revenue)"
   ]
  },
  {
   "cell_type": "code",
   "execution_count": 54,
   "id": "94e7fd5f-998d-4c30-869b-c4fccdf98562",
   "metadata": {},
   "outputs": [
    {
     "name": "stdout",
     "output_type": "stream",
     "text": [
      "21416.666666666668\n"
     ]
    }
   ],
   "source": [
    "#Find the average revenue per month\n",
    "avg_revenue = np.mean(revenue)\n",
    "print(avg_revenue)"
   ]
  },
  {
   "cell_type": "code",
   "execution_count": 55,
   "id": "57973fe1-6804-4175-8df9-980cd2c2283c",
   "metadata": {},
   "outputs": [
    {
     "name": "stdout",
     "output_type": "stream",
     "text": [
      "['Aug']\n"
     ]
    }
   ],
   "source": [
    "#Find the month with highest revenue\n",
    "highest_rev = np.max(revenue)\n",
    "print(months[np.where(revenue == highest_rev)])"
   ]
  },
  {
   "cell_type": "code",
   "execution_count": 56,
   "id": "b6b119c6-c78a-49cd-b7aa-1a158e4af5af",
   "metadata": {},
   "outputs": [
    {
     "name": "stdout",
     "output_type": "stream",
     "text": [
      "['Jan']\n"
     ]
    }
   ],
   "source": [
    "#Find the month with lowest revenue\n",
    "lowest_rev = np.min(revenue)\n",
    "print(months[np.where(revenue == lowest_rev)])"
   ]
  },
  {
   "cell_type": "markdown",
   "id": "fe738a41-e499-4c24-9d60-d132d16d985b",
   "metadata": {},
   "source": [
    "# Customer Analysis"
   ]
  },
  {
   "cell_type": "code",
   "execution_count": 57,
   "id": "533ec5a2-9a31-414d-a22d-010733887c75",
   "metadata": {},
   "outputs": [
    {
     "name": "stdout",
     "output_type": "stream",
     "text": [
      "12\n"
     ]
    }
   ],
   "source": [
    "#Find the total number of customers for the year.\n",
    "print(np.size(customers))"
   ]
  },
  {
   "cell_type": "code",
   "execution_count": 58,
   "id": "acef905f-4ae5-4bf4-995a-0905e367248d",
   "metadata": {},
   "outputs": [
    {
     "name": "stdout",
     "output_type": "stream",
     "text": [
      "Jan 100.0\n",
      "Feb 111.11111111111111\n",
      "Mar 112.5\n",
      "Apr 116.66666666666667\n",
      "May 125.0\n",
      "Jun 121.05263157894737\n",
      "Jul 121.73913043478261\n",
      "Aug 120.0\n",
      "Sep 112.5\n",
      "Oct 104.76190476190476\n",
      "Nov 108.57142857142857\n",
      "Dec 106.25\n"
     ]
    }
   ],
   "source": [
    "#Find the average revenue per customer for each month\n",
    "avg_cus = revenue / customers\n",
    "for i, j in enumerate(avg_cus):\n",
    "    print(months[i], j)"
   ]
  },
  {
   "cell_type": "code",
   "execution_count": 59,
   "id": "63f4def6-7015-447c-a76f-b0df12b61fb2",
   "metadata": {},
   "outputs": [
    {
     "name": "stdout",
     "output_type": "stream",
     "text": [
      "['Aug']\n"
     ]
    }
   ],
   "source": [
    "#Identify the month with the highest number of customers.\n",
    "print(months[np.where(customers == np.max(customers))])"
   ]
  },
  {
   "cell_type": "markdown",
   "id": "4bd3d8a2-8923-4540-ba6f-c6d07db5da0d",
   "metadata": {},
   "source": [
    "# Advertising Performance"
   ]
  },
  {
   "cell_type": "code",
   "execution_count": 60,
   "id": "ad319849-21dd-4fcb-bd2c-23e6d56bccdc",
   "metadata": {},
   "outputs": [
    {
     "name": "stdout",
     "output_type": "stream",
     "text": [
      "Jan 500.0\n",
      "Feb 581.8181818181819\n",
      "Mar 620.0\n",
      "Apr 650.0\n",
      "May 681.25\n",
      "Jun 641.9354838709677\n",
      "Jul 700.0\n",
      "Aug 650.0\n",
      "Sep 629.7297297297297\n",
      "Oct 566.6666666666667\n",
      "Nov 555.1724137931035\n",
      "Dec 529.6296296296297\n"
     ]
    }
   ],
   "source": [
    "#Compute the Revenue-to-Ad Spend Ratio for each month\n",
    "roi = ((revenue - ad_spend)/ad_spend) * 100\n",
    "\n",
    "for i, ro in enumerate(roi):\n",
    "    print(months[i], ro)"
   ]
  },
  {
   "cell_type": "code",
   "execution_count": 61,
   "id": "e8f83050-eede-484a-97cf-f405fa5201b3",
   "metadata": {},
   "outputs": [
    {
     "name": "stdout",
     "output_type": "stream",
     "text": [
      "['Jul']\n"
     ]
    }
   ],
   "source": [
    "#Identify the month with the highest ROI (Return on Investment) in advertising\n",
    "roi = ((revenue - ad_spend)/ad_spend) * 100\n",
    "print(months[np.where(roi == np.max(roi))])"
   ]
  },
  {
   "cell_type": "code",
   "execution_count": 62,
   "id": "1fc276ae-4ccc-41fc-8152-9c0b304af1d3",
   "metadata": {},
   "outputs": [
    {
     "name": "stdout",
     "output_type": "stream",
     "text": [
      "0.9659379634633412\n"
     ]
    }
   ],
   "source": [
    "#Find the correlation coefficient between advertising spend and revenue.\n",
    "print(np.corrcoef(ad_spend, revenue)[0,1])"
   ]
  },
  {
   "cell_type": "markdown",
   "id": "fdb69db6-2ca3-4b05-b755-5245c9028422",
   "metadata": {},
   "source": [
    "# Trend Analysis"
   ]
  },
  {
   "cell_type": "code",
   "execution_count": 63,
   "id": "0224870b-6f54-4373-b95f-fd081fa656ca",
   "metadata": {},
   "outputs": [
    {
     "name": "stdout",
     "output_type": "stream",
     "text": [
      "Jan to Feb is 25.0\n",
      "Feb to Mar is 20.0\n",
      "Mar to Apr is 16.666666666666664\n",
      "Apr to May is 19.047619047619047\n",
      "May to Jun is -8.0\n",
      "Jun to Jul is 21.73913043478261\n",
      "Jul to Aug is 7.142857142857142\n",
      "Aug to Sep is -10.0\n",
      "Sep to Oct is -18.51851851851852\n",
      "Oct to Nov is -13.636363636363635\n",
      "Nov to Dec is -10.526315789473683\n"
     ]
    }
   ],
   "source": [
    "#Compute the monthly revenue growth rate (percentage change from the previous month).\n",
    "mrg = (revenue[1:] - revenue[:-1]) / revenue[:-1] * 100\n",
    "\n",
    "for i, rev in enumerate(mrg):\n",
    "    print(months[i], \"to\", months[i+1], \"is\", rev)"
   ]
  },
  {
   "cell_type": "code",
   "execution_count": 64,
   "id": "ff1785bc-d816-447e-8dd4-ca6537d9a903",
   "metadata": {},
   "outputs": [
    {
     "name": "stdout",
     "output_type": "stream",
     "text": [
      "May to Jun\n",
      "Aug to Sep\n",
      "Sep to Oct\n",
      "Oct to Nov\n",
      "Nov to Dec\n"
     ]
    }
   ],
   "source": [
    "#Identify the months where revenue declined compared to the previous month.\n",
    "for i, rev in enumerate(mrg):\n",
    "    if rev < 0:\n",
    "        print(months[i], \"to\", months[i+1])"
   ]
  }
 ],
 "metadata": {
  "kernelspec": {
   "display_name": "Python 3 (ipykernel)",
   "language": "python",
   "name": "python3"
  },
  "language_info": {
   "codemirror_mode": {
    "name": "ipython",
    "version": 3
   },
   "file_extension": ".py",
   "mimetype": "text/x-python",
   "name": "python",
   "nbconvert_exporter": "python",
   "pygments_lexer": "ipython3",
   "version": "3.13.3"
  }
 },
 "nbformat": 4,
 "nbformat_minor": 5
}
